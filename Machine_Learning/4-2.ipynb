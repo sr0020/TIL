{
 "cells": [
  {
   "cell_type": "code",
   "execution_count": 1,
   "metadata": {},
   "outputs": [
    {
     "name": "stderr",
     "output_type": "stream",
     "text": [
      "C:\\Users\\CHOYEJIN\\AppData\\Roaming\\Python\\Python38\\site-packages\\pandas\\core\\computation\\expressions.py:20: UserWarning: Pandas requires version '2.7.3' or newer of 'numexpr' (version '2.7.1' currently installed).\n",
      "  from pandas.core.computation.check import NUMEXPR_INSTALLED\n"
     ]
    }
   ],
   "source": [
    "import pandas as pd\n",
    "fish = pd.read_csv('https://bit.ly/fish_csv_data')"
   ]
  },
  {
   "cell_type": "code",
   "execution_count": 2,
   "metadata": {},
   "outputs": [],
   "source": [
    "fish_input = fish[['Weight', 'Length', 'Diagonal', 'Height', 'Width']].to_numpy()\n",
    "fish_target = fish['Species'].to_numpy()"
   ]
  },
  {
   "cell_type": "code",
   "execution_count": 3,
   "metadata": {},
   "outputs": [],
   "source": [
    "from sklearn.model_selection import train_test_split\n",
    "train_input, test_input, train_target, test_target = train_test_split(\n",
    "    fish_input, fish_target, random_state=42)"
   ]
  },
  {
   "cell_type": "code",
   "execution_count": 4,
   "metadata": {},
   "outputs": [],
   "source": [
    "from sklearn.preprocessing import StandardScaler\n",
    "ss = StandardScaler()\n",
    "ss.fit(train_input)\n",
    "train_scaled = ss.transform(train_input)\n",
    "test_scaled = ss.transform(test_input)"
   ]
  },
  {
   "cell_type": "code",
   "execution_count": 5,
   "metadata": {},
   "outputs": [
    {
     "name": "stdout",
     "output_type": "stream",
     "text": [
      "[[7.20000e+02 3.50000e+01 4.06000e+01 1.63618e+01 6.09000e+00]\n",
      " [5.00000e+02 4.50000e+01 4.80000e+01 6.96000e+00 4.89600e+00]\n",
      " [7.50000e+00 1.05000e+01 1.16000e+01 1.97200e+00 1.16000e+00]\n",
      " [1.10000e+02 2.20000e+01 2.35000e+01 5.52250e+00 3.99500e+00]\n",
      " [1.40000e+02 2.07000e+01 2.32000e+01 8.53760e+00 3.29440e+00]\n",
      " [6.90000e+01 1.82000e+01 2.03000e+01 5.29830e+00 2.82170e+00]\n",
      " [1.10000e+02 2.10000e+01 2.25000e+01 5.69250e+00 3.55500e+00]\n",
      " [6.20000e+02 3.45000e+01 3.97000e+01 1.55227e+01 5.28010e+00]\n",
      " [1.30000e+02 2.13000e+01 2.28000e+01 6.38400e+00 3.53400e+00]\n",
      " [8.50000e+01 2.00000e+01 2.10000e+01 5.08200e+00 2.77200e+00]\n",
      " [6.85000e+02 3.65000e+01 3.90000e+01 1.08810e+01 6.86400e+00]\n",
      " [5.00000e+02 3.10000e+01 3.62000e+01 1.43714e+01 4.81460e+00]\n",
      " [5.14000e+02 3.28000e+01 3.40000e+01 1.00300e+01 6.01800e+00]\n",
      " [2.00000e+02 2.30000e+01 2.58000e+01 1.03458e+01 3.66360e+00]\n",
      " [1.00000e+03 4.40000e+01 4.66000e+01 1.24888e+01 7.59580e+00]\n",
      " [7.14000e+02 3.60000e+01 4.15000e+01 1.65170e+01 5.85150e+00]\n",
      " [8.70000e+00 1.13000e+01 1.26000e+01 1.97820e+00 1.28520e+00]\n",
      " [1.00000e+03 4.30000e+01 4.52000e+01 1.19328e+01 7.27720e+00]\n",
      " [1.10000e+02 2.08000e+01 2.31000e+01 6.16770e+00 3.39570e+00]\n",
      " [4.30000e+02 2.90000e+01 3.40000e+01 1.24440e+01 5.13400e+00]\n",
      " [4.56000e+02 4.25000e+01 4.55000e+01 7.28000e+00 4.32250e+00]\n",
      " [9.25000e+02 3.95000e+01 4.53000e+01 1.87542e+01 6.74970e+00]\n",
      " [9.50000e+02 5.17000e+01 5.51000e+01 8.92620e+00 6.17120e+00]\n",
      " [2.50000e+02 2.75000e+01 2.89000e+01 7.28280e+00 4.56620e+00]\n",
      " [1.70000e+02 2.07000e+01 2.32000e+01 9.39600e+00 3.41040e+00]\n",
      " [4.75000e+02 3.10000e+01 3.62000e+01 1.42628e+01 5.10420e+00]\n",
      " [1.45000e+02 2.27000e+01 2.42000e+01 5.95320e+00 3.63000e+00]\n",
      " [3.00000e+02 3.73000e+01 3.98000e+01 6.28840e+00 4.01980e+00]\n",
      " [2.42000e+02 2.54000e+01 3.00000e+01 1.15200e+01 4.02000e+00]\n",
      " [6.50000e+02 3.90000e+01 4.14000e+01 1.11366e+01 6.00300e+00]\n",
      " [1.20000e+02 1.90000e+01 2.13000e+01 8.39220e+00 2.91810e+00]\n",
      " [1.45000e+02 2.20000e+01 2.43000e+01 6.63390e+00 3.54780e+00]\n",
      " [1.25000e+02 2.10000e+01 2.25000e+01 5.69250e+00 3.66750e+00]\n",
      " [8.50000e+02 3.60000e+01 4.16000e+01 1.68896e+01 6.19840e+00]\n",
      " [0.00000e+00 2.05000e+01 2.28000e+01 6.47520e+00 3.35160e+00]\n",
      " [8.40000e+02 3.50000e+01 3.73000e+01 1.14884e+01 7.79570e+00]\n",
      " [7.25000e+02 3.50000e+01 4.09000e+01 1.63600e+01 6.05320e+00]\n",
      " [6.80000e+02 3.50000e+01 4.06000e+01 1.54686e+01 6.13060e+00]\n",
      " [6.90000e+02 3.70000e+01 3.93000e+01 1.05717e+01 6.36660e+00]\n",
      " [8.00000e+01 1.90000e+01 2.02000e+01 5.63580e+00 3.05020e+00]\n",
      " [1.20000e+02 2.00000e+01 2.22000e+01 6.21600e+00 3.57420e+00]\n",
      " [1.60000e+03 6.00000e+01 6.40000e+01 9.60000e+00 6.14400e+00]\n",
      " [2.65000e+02 2.75000e+01 2.89000e+01 7.05160e+00 4.33500e+00]\n",
      " [1.22000e+01 1.22000e+01 1.34000e+01 2.09040e+00 1.39360e+00]\n",
      " [3.45000e+02 3.85000e+01 4.10000e+01 6.39600e+00 3.97700e+00]\n",
      " [1.60000e+02 2.25000e+01 2.50000e+01 6.40000e+00 3.80000e+00]\n",
      " [8.50000e+02 4.00000e+01 4.23000e+01 1.19286e+01 7.10640e+00]\n",
      " [5.50000e+01 1.47000e+01 1.65000e+01 6.84750e+00 2.32650e+00]\n",
      " [3.20000e+01 1.37000e+01 1.47000e+01 3.52800e+00 1.99920e+00]\n",
      " [9.75000e+02 4.10000e+01 4.59000e+01 1.86354e+01 6.74730e+00]\n",
      " [3.20000e+02 3.00000e+01 3.16000e+01 7.61560e+00 4.77160e+00]\n",
      " [9.70000e+00 1.10000e+01 1.20000e+01 2.19600e+00 1.38000e+00]\n",
      " [1.10000e+03 4.20000e+01 4.46000e+01 1.28002e+01 6.86840e+00]\n",
      " [6.00000e+01 1.55000e+01 1.74000e+01 6.57720e+00 2.31420e+00]\n",
      " [1.97000e+01 1.43000e+01 1.52000e+01 2.87280e+00 2.06720e+00]\n",
      " [1.45000e+02 2.40000e+01 2.55000e+01 6.37500e+00 3.82500e+00]\n",
      " [1.97000e+02 2.56000e+01 2.70000e+01 6.56100e+00 4.23900e+00]\n",
      " [2.72000e+02 2.70000e+01 3.06000e+01 8.56800e+00 4.77360e+00]\n",
      " [4.50000e+02 2.97000e+01 3.47000e+01 1.36024e+01 4.92740e+00]\n",
      " [7.00000e+02 3.70000e+01 3.94000e+01 1.08350e+01 6.26460e+00]\n",
      " [8.20000e+02 4.00000e+01 4.25000e+01 1.11350e+01 6.63000e+00]\n",
      " [1.61000e+02 2.34000e+01 2.67000e+01 6.91530e+00 3.63120e+00]\n",
      " [4.00000e+01 1.41000e+01 1.62000e+01 4.14720e+00 2.26800e+00]\n",
      " [8.50000e+01 1.96000e+01 2.08000e+01 5.13760e+00 3.03680e+00]\n",
      " [1.00000e+02 1.80000e+01 1.92000e+01 5.22240e+00 3.32160e+00]\n",
      " [9.50000e+02 4.10000e+01 4.65000e+01 1.76235e+01 6.37050e+00]\n",
      " [1.40000e+02 2.25000e+01 2.50000e+01 6.55000e+00 3.32500e+00]\n",
      " [3.90000e+02 3.00000e+01 3.50000e+01 1.26700e+01 4.69000e+00]\n",
      " [1.50000e+02 2.20000e+01 2.47000e+01 5.80450e+00 3.75440e+00]\n",
      " [2.73000e+02 2.50000e+01 2.80000e+01 1.10880e+01 4.14400e+00]\n",
      " [9.00000e+02 4.00000e+01 4.25000e+01 1.17300e+01 7.22500e+00]\n",
      " [5.56000e+02 3.45000e+01 3.65000e+01 1.02565e+01 6.38750e+00]\n",
      " [1.30000e+02 2.25000e+01 2.40000e+01 5.85600e+00 3.62400e+00]\n",
      " [1.15000e+02 2.10000e+01 2.25000e+01 5.91750e+00 3.30750e+00]\n",
      " [1.55000e+03 6.00000e+01 6.40000e+01 9.60000e+00 6.14400e+00]\n",
      " [1.65000e+03 6.34000e+01 6.80000e+01 1.08120e+01 7.48000e+00]\n",
      " [1.35000e+02 2.20000e+01 2.35000e+01 5.87500e+00 3.52500e+00]\n",
      " [4.50000e+02 3.00000e+01 3.51000e+01 1.40049e+01 4.84380e+00]\n",
      " [7.00000e+02 3.60000e+01 3.83000e+01 1.06091e+01 6.74080e+00]\n",
      " [3.40000e+02 3.20000e+01 3.73000e+01 1.39129e+01 5.07280e+00]\n",
      " [8.00000e+02 3.64000e+01 3.96000e+01 1.17612e+01 6.57360e+00]\n",
      " [5.40000e+02 4.30000e+01 4.58000e+01 7.78600e+00 5.12960e+00]\n",
      " [3.63000e+02 2.90000e+01 3.35000e+01 1.27300e+01 4.45550e+00]\n",
      " [7.00000e+02 3.30000e+01 3.85000e+01 1.49380e+01 5.19750e+00]\n",
      " [8.70000e+01 1.98000e+01 2.22000e+01 5.61660e+00 3.17460e+00]\n",
      " [5.90000e+00 8.40000e+00 8.80000e+00 2.11200e+00 1.40800e+00]\n",
      " [7.70000e+02 4.80000e+01 5.12000e+01 7.68000e+00 5.37600e+00]\n",
      " [5.00000e+02 2.97000e+01 3.45000e+01 1.41795e+01 5.27850e+00]\n",
      " [4.30000e+02 3.80000e+01 4.05000e+01 7.29000e+00 4.57650e+00]\n",
      " [9.00000e+01 1.77000e+01 1.98000e+01 7.40520e+00 2.67300e+00]\n",
      " [3.90000e+02 3.17000e+01 3.50000e+01 9.48500e+00 5.35500e+00]\n",
      " [3.00000e+02 2.87000e+01 3.01000e+01 7.58520e+00 4.63540e+00]\n",
      " [2.00000e+02 2.35000e+01 2.68000e+01 7.39680e+00 4.12720e+00]\n",
      " [1.22000e+01 1.30000e+01 1.38000e+01 2.27700e+00 1.25580e+00]\n",
      " [5.40000e+02 3.10000e+01 3.40000e+01 1.07440e+01 6.56200e+00]\n",
      " [1.69000e+02 2.40000e+01 2.72000e+01 7.53440e+00 3.83520e+00]\n",
      " [1.30000e+02 2.20000e+01 2.35000e+01 6.11000e+00 3.52500e+00]\n",
      " [6.85000e+02 3.40000e+01 3.92000e+01 1.59936e+01 5.37040e+00]\n",
      " [3.06000e+02 2.80000e+01 3.08000e+01 8.77800e+00 4.68160e+00]\n",
      " [9.80000e+00 1.20000e+01 1.32000e+01 2.20440e+00 1.14840e+00]\n",
      " [3.00000e+02 3.40000e+01 3.78000e+01 5.70780e+00 4.15800e+00]\n",
      " [7.80000e+01 1.88000e+01 2.12000e+01 5.57560e+00 2.90440e+00]\n",
      " [9.80000e+00 1.12000e+01 1.24000e+01 2.08320e+00 1.27720e+00]\n",
      " [2.90000e+02 2.63000e+01 3.12000e+01 1.24800e+01 4.30560e+00]\n",
      " [2.90000e+02 2.60000e+01 2.92000e+01 8.87680e+00 4.49680e+00]\n",
      " [3.00000e+02 3.50000e+01 3.88000e+01 5.93640e+00 4.38440e+00]\n",
      " [2.60000e+02 2.75000e+01 2.89000e+01 7.16720e+00 4.33500e+00]\n",
      " [1.80000e+02 2.50000e+01 2.65000e+01 6.43950e+00 3.68350e+00]\n",
      " [9.00000e+02 3.90000e+01 4.14000e+01 1.11366e+01 7.49340e+00]\n",
      " [1.20000e+02 2.20000e+01 2.35000e+01 5.64000e+00 3.52500e+00]\n",
      " [4.00000e+01 1.50000e+01 1.60000e+01 3.82400e+00 2.43200e+00]\n",
      " [1.01500e+03 4.00000e+01 4.24000e+01 1.23808e+01 7.46240e+00]\n",
      " [1.99000e+01 1.50000e+01 1.62000e+01 2.93220e+00 1.87920e+00]\n",
      " [5.75000e+02 3.40000e+01 3.95000e+01 1.51285e+01 5.56950e+00]\n",
      " [3.00000e+02 2.60000e+01 2.90000e+01 1.13680e+01 4.23400e+00]\n",
      " [2.50000e+02 2.80000e+01 2.94000e+01 7.82040e+00 4.20420e+00]\n",
      " [6.00000e+02 3.20000e+01 3.72000e+01 1.49544e+01 5.17080e+00]\n",
      " [1.50000e+02 2.25000e+01 2.40000e+01 6.79200e+00 3.62400e+00]\n",
      " [3.00000e+02 2.73000e+01 2.87000e+01 8.32300e+00 5.13730e+00]]\n"
     ]
    }
   ],
   "source": [
    "print(train_input)"
   ]
  },
  {
   "cell_type": "code",
   "execution_count": 6,
   "metadata": {},
   "outputs": [
    {
     "name": "stdout",
     "output_type": "stream",
     "text": [
      "[[ 9.19657820e-01  6.09431747e-01  8.10412209e-01  1.85194896e+00\n",
      "   1.00075672e+00]\n",
      " [ 3.00412188e-01  1.54653445e+00  1.45316551e+00 -4.69816625e-01\n",
      "   2.72917446e-01]\n",
      " [-1.08585360e+00 -1.68646987e+00 -1.70848587e+00 -1.70159849e+00\n",
      "  -2.00447580e+00]\n",
      " [-7.97341433e-01 -6.08801762e-01 -6.74869070e-01 -8.24805885e-01\n",
      "  -2.76314705e-01]\n",
      " [-7.12898847e-01 -7.30625113e-01 -7.00926637e-01 -8.02298036e-02\n",
      "  -7.03386897e-01]\n",
      " [-9.12746301e-01 -9.64900787e-01 -9.52816444e-01 -8.80171862e-01\n",
      "  -9.91535662e-01]\n",
      " [-7.97341433e-01 -7.02512032e-01 -7.61727625e-01 -7.82824547e-01\n",
      "  -5.44530184e-01]\n",
      " [ 6.38182533e-01  5.62576612e-01  7.32239510e-01  1.64473401e+00\n",
      "   5.07057367e-01]\n",
      " [-7.41046376e-01 -6.74398951e-01 -7.35670058e-01 -6.12059278e-01\n",
      "  -5.57331377e-01]\n",
      " [-8.67710255e-01 -7.96222301e-01 -8.92015456e-01 -9.33586942e-01\n",
      "  -1.02183182e+00]\n",
      " [ 8.21141469e-01  7.49997152e-01  6.71438522e-01  4.98470601e-01\n",
      "   1.47257213e+00]\n",
      " [ 3.00412188e-01  2.34590667e-01  4.28234570e-01  1.36042157e+00\n",
      "   2.23297582e-01]\n",
      " [ 3.39818728e-01  4.03269153e-01  2.37145751e-01  2.88316959e-01\n",
      "   9.56866916e-01]\n",
      " [-5.44013674e-01 -5.15091492e-01 -4.75094395e-01  3.66303469e-01\n",
      "  -4.78329727e-01]\n",
      " [ 1.70778862e+00  1.45282418e+00  1.33156354e+00  8.95515284e-01\n",
      "   1.91866324e+00]\n",
      " [ 9.02769303e-01  7.03142017e-01  8.88584908e-01  1.89027545e+00\n",
      "   8.55371741e-01]\n",
      " [-1.08247590e+00 -1.61150165e+00 -1.62162731e+00 -1.70006740e+00\n",
      "  -1.92815631e+00]\n",
      " [ 1.70778862e+00  1.35911391e+00  1.20996156e+00  7.58211612e-01\n",
      "   1.72445085e+00]\n",
      " [-7.97341433e-01 -7.21254086e-01 -7.09612492e-01 -6.65474358e-01\n",
      "  -6.41636379e-01]\n",
      " [ 1.03379487e-01  4.71701274e-02  2.37145751e-01  8.84451967e-01\n",
      "   4.17997636e-01]\n",
      " [ 1.76563061e-01  1.31225877e+00  1.23601913e+00 -3.90792929e-01\n",
      "  -7.66770476e-02]\n",
      " [ 1.49668216e+00  1.03112796e+00  1.21864741e+00  2.44274986e+00\n",
      "   1.40289707e+00]\n",
      " [ 1.56705098e+00  2.17439325e+00  2.06986125e+00  1.57345974e-02\n",
      "   1.05025467e+00]\n",
      " [-4.03276031e-01 -9.33952774e-02 -2.05832877e-01 -3.90101472e-01\n",
      "   7.18777527e-02]\n",
      " [-6.28456261e-01 -7.30625113e-01 -7.00926637e-01  1.31751261e-01\n",
      "  -6.32675543e-01]\n",
      " [ 2.30043366e-01  2.34590667e-01  4.28234570e-01  1.33360290e+00\n",
      "   3.99832133e-01]\n",
      " [-6.98825082e-01 -5.43204573e-01 -6.14068082e-01 -7.18444929e-01\n",
      "  -4.98811636e-01]\n",
      " [-2.62538387e-01  8.24965367e-01  7.40925366e-01 -6.35667608e-01\n",
      "  -2.61197105e-01]\n",
      " [-4.25794054e-01 -2.90186844e-01 -1.10288467e-01  6.56271044e-01\n",
      "  -2.61075189e-01]\n",
      " [ 7.22625119e-01  9.84272826e-01  8.79899053e-01  5.61590778e-01\n",
      "   9.47723207e-01]\n",
      " [-7.69193904e-01 -8.89932571e-01 -8.65957890e-01 -1.16136195e-01\n",
      "  -9.32772089e-01]\n",
      " [-6.98825082e-01 -6.08801762e-01 -6.05382227e-01 -5.50346711e-01\n",
      "  -5.48919164e-01]\n",
      " [-7.55120140e-01 -7.02512032e-01 -7.61727625e-01 -7.82824547e-01\n",
      "  -4.75952362e-01]\n",
      " [ 1.28557569e+00  7.03142017e-01  8.97270764e-01  1.98228866e+00\n",
      "   1.06683526e+00]\n",
      " [-1.10696425e+00 -7.49367167e-01 -7.35670058e-01 -5.89537525e-01\n",
      "  -6.68518884e-01]\n",
      " [ 1.25742816e+00  6.09431747e-01  5.23778980e-01  6.48467454e-01\n",
      "   2.04051841e+00]\n",
      " [ 9.33731584e-01  6.09431747e-01  8.36469776e-01  1.85150445e+00\n",
      "   9.78324154e-01]\n",
      " [ 8.07067705e-01  6.09431747e-01  8.10412209e-01  1.63137406e+00\n",
      "   1.02550570e+00]\n",
      " [ 8.35215234e-01  7.96852286e-01  6.97496089e-01  4.22089260e-01\n",
      "   1.16936672e+00]\n",
      " [-8.81784019e-01 -8.89932571e-01 -9.61502300e-01 -7.96826558e-01\n",
      "  -8.52246487e-01]\n",
      " [-7.69193904e-01 -7.96222301e-01 -7.87785191e-01 -6.53546719e-01\n",
      "  -5.32826236e-01]\n",
      " [ 3.39664035e+00  2.95218849e+00  2.84290238e+00  1.82128867e-01\n",
      "   1.03367408e+00]\n",
      " [-3.61054738e-01 -9.33952774e-02 -2.05832877e-01 -4.47196092e-01\n",
      "  -6.90572897e-02]\n",
      " [-1.07262426e+00 -1.52716241e+00 -1.55214047e+00 -1.67235972e+00\n",
      "  -1.86207776e+00]\n",
      " [-1.35874508e-01  9.37417691e-01  8.45155631e-01 -6.09095890e-01\n",
      "  -2.87287156e-01]\n",
      " [-6.56603789e-01 -5.61946627e-01 -5.44581239e-01 -6.08108094e-01\n",
      "  -3.95182929e-01]\n",
      " [ 1.28557569e+00  1.07798310e+00  9.58071752e-01  7.57174426e-01\n",
      "   1.62033448e+00]\n",
      " [-9.52152841e-01 -1.29288673e+00 -1.28287895e+00 -4.97598394e-01\n",
      "  -1.29339999e+00]\n",
      " [-1.01689216e+00 -1.38659700e+00 -1.43922435e+00 -1.31734577e+00\n",
      "  -1.49291573e+00]\n",
      " [ 1.63741980e+00  1.17169337e+00  1.27076255e+00  2.41341232e+00\n",
      "   1.40143407e+00]\n",
      " [-2.06243329e-01  1.40880397e-01  2.86852201e-02 -3.07916828e-01\n",
      "   1.97085615e-01]\n",
      " [-1.07966115e+00 -1.63961473e+00 -1.67374245e+00 -1.64628190e+00\n",
      "  -1.87036806e+00]\n",
      " [ 1.98926391e+00  1.26540364e+00  1.15784643e+00  9.72415218e-01\n",
      "   1.47525429e+00]\n",
      " [-9.38079077e-01 -1.21791852e+00 -1.20470625e+00 -5.64348722e-01\n",
      "  -1.30089783e+00]\n",
      " [-1.05151362e+00 -1.33037084e+00 -1.39579507e+00 -1.47914678e+00\n",
      "  -1.45146425e+00]\n",
      " [-6.98825082e-01 -4.21381222e-01 -5.01151962e-01 -6.14281820e-01\n",
      "  -3.79943413e-01]\n",
      " [-5.52457933e-01 -2.71444790e-01 -3.70864130e-01 -5.68349296e-01\n",
      "  -1.27577031e-01]\n",
      " [-3.41351467e-01 -1.40250412e-01 -5.81733343e-02 -7.27225524e-02\n",
      "   1.98304776e-01]\n",
      " [ 1.59674544e-01  1.12767316e-01  2.97946739e-01  1.17051775e+00\n",
      "   2.92058277e-01]\n",
      " [ 8.63362763e-01  7.96852286e-01  7.06181944e-01  4.87110945e-01\n",
      "   1.10718950e+00]\n",
      " [ 1.20113311e+00  1.07798310e+00  9.75443463e-01  5.61195660e-01\n",
      "   1.32993026e+00]\n",
      " [-6.53789036e-01 -4.77607384e-01 -3.96921696e-01 -4.80855248e-01\n",
      "  -4.98080139e-01]\n",
      " [-9.94374134e-01 -1.34911289e+00 -1.30893652e+00 -1.16443491e+00\n",
      "  -1.32906046e+00]\n",
      " [-8.67710255e-01 -8.33706409e-01 -9.09387167e-01 -9.19856575e-01\n",
      "  -8.60414868e-01]\n",
      " [-8.25488962e-01 -9.83642841e-01 -1.04836085e+00 -8.98915295e-01\n",
      "  -6.86806303e-01]\n",
      " [ 1.56705098e+00  1.17169337e+00  1.32287768e+00  2.16352457e+00\n",
      "   1.17174409e+00]\n",
      " [-7.12898847e-01 -5.61946627e-01 -5.44581239e-01 -5.71065736e-01\n",
      "  -6.84733729e-01]\n",
      " [-9.21062831e-03  1.40880397e-01  3.24004305e-01  9.40262452e-01\n",
      "   1.47343835e-01]\n",
      " [-6.84751318e-01 -6.08801762e-01 -5.70638805e-01 -7.55166253e-01\n",
      "  -4.22979805e-01]\n",
      " [-3.38536715e-01 -3.27670952e-01 -2.84005576e-01  5.49589054e-01\n",
      "  -1.85487191e-01]\n",
      " [ 1.42631334e+00  1.07798310e+00  9.75443463e-01  7.08130345e-01\n",
      "   1.69263074e+00]\n",
      " [ 4.58038349e-01  5.62576612e-01  4.54292136e-01  3.44250919e-01\n",
      "   1.18210696e+00]\n",
      " [-7.41046376e-01 -5.61946627e-01 -6.31439793e-01 -7.42448377e-01\n",
      "  -5.02469120e-01]\n",
      " [-7.83267669e-01 -7.02512032e-01 -7.61727625e-01 -7.27261010e-01\n",
      "  -6.95401390e-01]\n",
      " [ 3.25590271e+00  2.95218849e+00  2.84290238e+00  1.82128867e-01\n",
      "   1.03367408e+00]\n",
      " [ 3.53737799e+00  3.27080341e+00  3.19033660e+00  4.81431116e-01\n",
      "   1.84807380e+00]\n",
      " [-7.26972611e-01 -6.08801762e-01 -6.74869070e-01 -7.37756345e-01\n",
      "  -5.62817603e-01]\n",
      " [ 1.59674544e-01  1.40880397e-01  3.32690160e-01  1.26991474e+00\n",
      "   2.41097337e-01]\n",
      " [ 8.63362763e-01  7.03142017e-01  6.10637534e-01  4.31325154e-01\n",
      "   1.39747180e+00]\n",
      " [-1.49948272e-01  3.28300937e-01  5.23778980e-01  1.24719543e+00\n",
      "   3.80691302e-01]\n",
      " [ 1.14483805e+00  7.40626125e-01  7.23553655e-01  7.15835155e-01\n",
      "   1.29554992e+00]\n",
      " [ 4.13002303e-01  1.35911391e+00  1.26207669e+00 -2.65836710e-01\n",
      "   4.15315481e-01]\n",
      " [-8.52089559e-02  4.71701274e-02  1.93716473e-01  9.55079395e-01\n",
      "   4.39717660e-03]\n",
      " [ 8.63362763e-01  4.22011207e-01  6.28009245e-01  1.50034290e+00\n",
      "   4.56706006e-01]\n",
      " [-8.62080749e-01 -8.14964355e-01 -7.87785191e-01 -8.01567980e-01\n",
      "  -7.76414657e-01]\n",
      " [-1.09035721e+00 -1.88326143e+00 -1.95168982e+00 -1.66702562e+00\n",
      "  -1.85329980e+00]\n",
      " [ 1.06039546e+00  1.82766526e+00  1.73111289e+00 -2.92013309e-01\n",
      "   5.65516150e-01]\n",
      " [ 3.00412188e-01  1.12767316e-01  2.80575028e-01  1.31303204e+00\n",
      "   5.06082038e-01]\n",
      " [ 1.03379487e-01  8.90562556e-01  8.01726354e-01 -3.88323439e-01\n",
      "   7.81564332e-02]\n",
      " [-8.53636490e-01 -1.01175592e+00 -9.96245722e-01 -3.59874908e-01\n",
      "  -1.08218030e+00]\n",
      " [-9.21062831e-03  3.00187856e-01  3.24004305e-01  1.53729727e-01\n",
      "   5.52714956e-01]\n",
      " [-2.62538387e-01  1.90570465e-02 -1.01602612e-01 -3.15424079e-01\n",
      "   1.14060733e-01]\n",
      " [-5.44013674e-01 -4.68236357e-01 -3.88235841e-01 -3.61949280e-01\n",
      "  -1.95728145e-01]\n",
      " [-1.07262426e+00 -1.45219419e+00 -1.51739705e+00 -1.62627903e+00\n",
      "  -1.94607798e+00]\n",
      " [ 4.13002303e-01  2.34590667e-01  2.37145751e-01  4.64638581e-01\n",
      "   1.28847878e+00]\n",
      " [-6.31271013e-01 -4.21381222e-01 -3.53492419e-01 -3.27969091e-01\n",
      "  -3.73725690e-01]\n",
      " [-7.41046376e-01 -6.08801762e-01 -6.74869070e-01 -6.79723318e-01\n",
      "  -5.62817603e-01]\n",
      " [ 8.21141469e-01  5.15721477e-01  6.88810233e-01  1.76102232e+00\n",
      "   5.62102498e-01]\n",
      " [-2.45649870e-01 -4.65401424e-02 -4.08016234e-02 -2.08632519e-02\n",
      "   1.42223358e-01]\n",
      " [-1.07937967e+00 -1.54590446e+00 -1.56951218e+00 -1.64420753e+00\n",
      "  -2.01154694e+00]\n",
      " [-2.62538387e-01  5.15721477e-01  5.67208257e-01 -7.79046226e-01\n",
      "  -1.76953062e-01]\n",
      " [-8.87413525e-01 -9.08674625e-01 -8.74643745e-01 -8.11692891e-01\n",
      "  -9.41123344e-01]\n",
      " [-1.07937967e+00 -1.62087268e+00 -1.63899902e+00 -1.67413775e+00\n",
      "  -1.93303295e+00]\n",
      " [-2.90685916e-01 -2.05847601e-01 -6.05820169e-03  8.93342132e-01\n",
      "  -8.69789603e-02]\n",
      " [-2.90685916e-01 -2.33960682e-01 -1.79775310e-01  3.53531430e-03\n",
      "   2.95728568e-02]\n",
      " [-2.62538387e-01  6.09431747e-01  6.54066812e-01 -7.22593673e-01\n",
      "  -3.89440064e-02]\n",
      " [-3.75128502e-01 -9.33952774e-02 -2.05832877e-01 -4.18648782e-01\n",
      "  -6.90572897e-02]\n",
      " [-6.00308732e-01 -3.27670952e-01 -4.14293407e-01 -5.98353606e-01\n",
      "  -4.66199072e-01]\n",
      " [ 1.42631334e+00  9.84272826e-01  8.79899053e-01  5.61590778e-01\n",
      "   1.85624218e+00]\n",
      " [-7.69193904e-01 -6.08801762e-01 -6.74869070e-01 -7.95789372e-01\n",
      "  -5.62817603e-01]\n",
      " [-9.94374134e-01 -1.26477365e+00 -1.32630823e+00 -1.24424885e+00\n",
      "  -1.22908923e+00]\n",
      " [ 1.75000992e+00  1.07798310e+00  9.66757607e-01  8.68844787e-01\n",
      "   1.83734518e+00]\n",
      " [-1.05095067e+00 -1.26477365e+00 -1.30893652e+00 -1.46447801e+00\n",
      "  -1.56606541e+00]\n",
      " [ 5.11518653e-01  5.15721477e-01  7.14867800e-01  1.54738669e+00\n",
      "   6.83470002e-01]\n",
      " [-2.62538387e-01 -2.33960682e-01 -1.97147021e-01  6.18734788e-01\n",
      "  -1.30624934e-01]\n",
      " [-4.03276031e-01 -4.65401424e-02 -1.62403600e-01 -2.57341662e-01\n",
      "  -1.48790437e-01]\n",
      " [ 5.81887475e-01  3.28300937e-01  5.15093125e-01  1.50439286e+00\n",
      "   4.40430204e-01]\n",
      " [-6.84751318e-01 -5.61946627e-01 -6.31439793e-01 -5.11304066e-01\n",
      "  -5.02469120e-01]\n",
      " [-2.62538387e-01 -1.12137331e-01 -2.23204588e-01 -1.33225070e-01\n",
      "   4.20009252e-01]]\n"
     ]
    }
   ],
   "source": [
    "print(train_scaled)"
   ]
  },
  {
   "cell_type": "code",
   "execution_count": 7,
   "metadata": {},
   "outputs": [],
   "source": [
    "from sklearn.linear_model import SGDClassifier"
   ]
  },
  {
   "cell_type": "code",
   "execution_count": 10,
   "metadata": {},
   "outputs": [
    {
     "name": "stdout",
     "output_type": "stream",
     "text": [
      "0.773109243697479\n",
      "0.775\n",
      "\n",
      "0.8151260504201681\n",
      "0.85\n"
     ]
    },
    {
     "name": "stderr",
     "output_type": "stream",
     "text": [
      "C:\\ProgramData\\Anaconda3\\lib\\site-packages\\sklearn\\linear_model\\_stochastic_gradient.py:570: ConvergenceWarning: Maximum number of iteration reached before convergence. Consider increasing max_iter to improve the fit.\n",
      "  warnings.warn(\"Maximum number of iteration reached before \"\n"
     ]
    }
   ],
   "source": [
    "sc = SGDClassifier(loss='log', max_iter=10, random_state=42)\n",
    "sc.fit(train_scaled, train_target)\n",
    "print(sc.score(train_scaled, train_target))\n",
    "print(sc.score(test_scaled, test_target))\n",
    "print()\n",
    "sc.partial_fit(train_scaled, train_target)\n",
    "print(sc.score(train_scaled, train_target))\n",
    "print(sc.score(test_scaled, test_target))"
   ]
  },
  {
   "cell_type": "code",
   "execution_count": 11,
   "metadata": {},
   "outputs": [],
   "source": [
    "import numpy as np\n",
    "sc = SGDClassifier(loss='log', random_state=42)\n",
    "train_score = []\n",
    "test_score = []\n",
    "classes = np.unique(train_target)"
   ]
  },
  {
   "cell_type": "code",
   "execution_count": 12,
   "metadata": {},
   "outputs": [],
   "source": [
    "for _ in range(0, 300):\n",
    "    sc.partial_fit(train_scaled, train_target, classes=classes)\n",
    "    train_score.append(sc.score(train_scaled, train_target))\n",
    "    test_score.append(sc.score(test_scaled, test_target))"
   ]
  },
  {
   "cell_type": "code",
   "execution_count": 13,
   "metadata": {},
   "outputs": [
    {
     "data": {
      "image/png": "[encoded data removed]",
      "text/plain": [
       "<Figure size 432x288 with 1 Axes>"
      ]
     },
     "metadata": {
      "needs_background": "light"
     },
     "output_type": "display_data"
    }
   ],
   "source": [
    "import matplotlib.pyplot as plt\n",
    "plt.plot(train_score)\n",
    "plt.plot(test_score)\n",
    "plt.xlabel('epoch')\n",
    "plt.ylabel('accuracy')\n",
    "plt.show()"
   ]
  },
  {
   "cell_type": "code",
   "execution_count": 14,
   "metadata": {},
   "outputs": [
    {
     "data": {
      "text/plain": [
       "SGDClassifier(loss='log', max_iter=100, random_state=42, tol=None)"
      ]
     },
     "execution_count": 14,
     "metadata": {},
     "output_type": "execute_result"
    }
   ],
   "source": [
    "sc = SGDClassifier(loss='log', max_iter=100, tol=None, random_state=42)\n",
    "sc.fit(train_scaled, train_target)"
   ]
  },
  {
   "cell_type": "code",
   "execution_count": 15,
   "metadata": {},
   "outputs": [
    {
     "name": "stdout",
     "output_type": "stream",
     "text": [
      "0.957983193277311\n",
      "0.925\n"
     ]
    }
   ],
   "source": [
    "print(sc.score(train_scaled, train_target))\n",
    "print(sc.score(test_scaled, test_target))"
   ]
  },
  {
   "cell_type": "code",
   "execution_count": 17,
   "metadata": {},
   "outputs": [
    {
     "name": "stdout",
     "output_type": "stream",
     "text": [
      "0.9495798319327731\n",
      "0.925\n"
     ]
    }
   ],
   "source": [
    "sc = SGDClassifier(loss='hinge', max_iter=100, tol=None, random_state=42)\n",
    "sc.fit(train_scaled, train_target)\n",
    "print(sc.score(train_scaled, train_target))\n",
    "print(sc.score(test_scaled, test_target))"
   ]
  },
  {
   "cell_type": "code",
   "execution_count": null,
   "metadata": {},
   "outputs": [],
   "source": []
  }
 ],
 "metadata": {
  "kernelspec": {
   "display_name": "Python 3",
   "language": "python",
   "name": "python3"
  },
  "language_info": {
   "codemirror_mode": {
    "name": "ipython",
    "version": 3
   },
   "file_extension": ".py",
   "mimetype": "text/x-python",
   "name": "python",
   "nbconvert_exporter": "python",
   "pygments_lexer": "ipython3",
   "version": "3.8.5"
  }
 },
 "nbformat": 4,
 "nbformat_minor": 4
}
